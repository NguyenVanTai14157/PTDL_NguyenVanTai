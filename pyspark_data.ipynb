{
 "cells": [
  {
   "cell_type": "code",
   "execution_count": 1,
   "metadata": {},
   "outputs": [],
   "source": [
    "import pandas as pd\n",
    "import numpy as np\n",
    "from pymongo import MongoClient\n",
    "from pyspark.sql import SparkSession"
   ]
  },
  {
   "cell_type": "code",
   "execution_count": 2,
   "metadata": {},
   "outputs": [],
   "source": [
    "# Khởi tạo SparkSession\n",
    "from pyspark.sql import SparkSession\n",
    "spark = SparkSession.builder \\\n",
    "    .appName(\"MongoDB to Spark\") \\\n",
    "    .config(\"spark.jars.packages\", \"org.mongodb.spark:mongo-spark-connector_2.12:3.0.2\") \\\n",
    "    .config(\"spark.mongodb.input.uri\", \"mongodb://localhost:27017/dbmycrawler\") \\\n",
    "    .getOrCreate()"
   ]
  },
  {
   "cell_type": "code",
   "execution_count": 3,
   "metadata": {},
   "outputs": [
    {
     "name": "stdout",
     "output_type": "stream",
     "text": [
      "+---------+-----------+--------------------+----------+--------------+------------+------------+---------------+-----------+--------------------+--------------------+--------------------+-----------------+\n",
      "|Diện tích|        Giá|               Mô tả| Ngày đăng|       Pháp lý|        Quận|Số phòng ngủ|Số phòng toilet|  Thành phố|             Tiêu đề|                 _id|       chi_tiet_link|            Đường|\n",
      "+---------+-----------+--------------------+----------+--------------+------------+------------+---------------+-----------+--------------------+--------------------+--------------------+-----------------+\n",
      "|       42| 3600000000|Cần bán nhanh căn...|02/10/2024|Sổ đỏ/ Sổ hồng|      Nhà Bè|           4|              3|Hồ Chí Minh|Cần bán nhanh căn...|{66fd77670d78f842...|https://batdongsa...|   Huỳnh Tấn Phát|\n",
      "|       54| 8600000000|  Thông tin chi tiết|02/10/2024|Sổ đỏ/ Sổ hồng|    Cầu Giấy|           6|              6|     Hà Nội|BÁN NHÀ 5 TẦNG TR...|{66fd77670d78f842...|https://batdongsa...|     Khúc Thừa Dụ|\n",
      "|      110|16900000000|N33 KHU Nhiêu Tứ ...|01/10/2024|Sổ đỏ/ Sổ hồng|   Phú Nhuận|           6|              6|Hồ Chí Minh|N33 Nhà Bán  Hoa ...|{66fd77670d78f842...|https://batdongsa...|           Hoa Sứ|\n",
      "|       80|11200000000|Chính chủ gửi bán...|01/10/2024|Sổ đỏ/ Sổ hồng|    Đông Anh|        NULL|           NULL|     Hà Nội|Chính chủ gửi bán...|{66fd77670d78f842...|https://batdongsa...|          Cổ Điển|\n",
      "|       60| 8000000000|TRỊNH ĐÌNH TRỌNG ...|01/10/2024|Sổ đỏ/ Sổ hồng|     Tân Phú|        NULL|           NULL|Hồ Chí Minh|TRỊNH ĐÌNH TRỌNG ...|{66fd77680d78f842...|https://batdongsa...|                1|\n",
      "|       34| 7000000000|Nhà 4 tầng Phan Đ...|30/09/2024|Sổ đỏ/ Sổ hồng|     Hà Đông|           4|              3|     Hà Nội|Nhà 4 tầng ngõ Ph...|{66fd77680d78f842...|https://batdongsa...|   Phan Đình Giót|\n",
      "|       56|20800000000|MẶT NGÕ Ô TÔ  THÔ...|30/09/2024|Sổ đỏ/ Sổ hồng|    Cầu Giấy|           6|              6|     Hà Nội|BÁN NHÀ DƯƠNG QUẢ...|{66fd77680d78f842...|https://batdongsa...|  Dương Quảng Hàm|\n",
      "|      104|23000000000|        HÀNG VIP HOT|30/09/2024|Sổ đỏ/ Sổ hồng|     Quận 12|           3|              3|Hồ Chí Minh|MẶT TIỀN QUẬN 12 ...|{66fd77680d78f842...|https://batdongsa...|            Tô Ký|\n",
      "|     4200|21000000000|Cần bán gấp 4200m...|29/09/2024|Sổ đỏ/ Sổ hồng|      Củ Chi|        NULL|           NULL|Hồ Chí Minh|BÁN NHÀ CÓ 2 MẶT ...|{66fd77680d78f842...|https://batdongsa...|         Láng The|\n",
      "|      182|11800000000|Nhà MT kinh doanh...|29/09/2024|Sổ đỏ/ Sổ hồng|      Quận 2|           3|              2|Hồ Chí Minh|Nhà MT kinh doanh...|{66fd77690d78f842...|https://batdongsa...|               12|\n",
      "|       74| 6800000000| Kết cấu nhà 2 tầ...|28/09/2024|Sổ đỏ/ Sổ hồng|      Quận 8|           3|              2|Hồ Chí Minh|QUẬN 8, CHỢ PHẠM ...|{66fd77690d78f842...|https://batdongsa...|          Đông Hồ|\n",
      "|       28| 2500000000|          Nhà 2 tầng|28/09/2024|Sổ đỏ/ Sổ hồng|    Bình Tân|           2|              2|Hồ Chí Minh|62 TRƯƠNG PHƯỚC P...|{66fd77690d78f842...|https://batdongsa...|Trương Phước Phan|\n",
      "|       88| 7500000000| Diện tích 87.7m ...|27/09/2024|Sổ đỏ/ Sổ hồng|      Quận 9|           2|              1|Hồ Chí Minh|Bán Nhà Mặt Tiền ...|{66fd77690d78f842...|https://batdongsa...|               13|\n",
      "|       84|14000000000|Mô tảthoaDt  6 x ...|27/09/2024|Sổ đỏ/ Sổ hồng|  Bình Thạnh|           4|              5|Hồ Chí Minh|84m2 , 5 tâng , L...|{66fd77690d78f842...|https://batdongsa...|    Lê Quang Định|\n",
      "|       40| 6200000000|Bán nhà ngõ 20 Hồ...|26/09/2024|Sổ đỏ/ Sổ hồng| Bắc Từ Liêm|           4|              4|     Hà Nội|Bán nhà ngõ 82 TR...|{66fd776a0d78f842...|https://batdongsa...|        Trần Cung|\n",
      "|       91|15000000000|BÁN NHÀ ĐƯỜNG NGU...|26/09/2024|Sổ đỏ/ Sổ hồng|    Cầu Giấy|           3|              3|     Hà Nội|BÁN NHÀ NGUYỄN KH...|{66fd776a0d78f842...|https://batdongsa...|Nguyễn Khánh Toàn|\n",
      "|       80|27000000000|Nhà phân lô 7 tần...|26/09/2024|Sổ đỏ/ Sổ hồng|Hai Bà Trưng|           4|              4|     Hà Nội|BÁN NHÀ YÊN LẠC H...|{66fd776a0d78f842...|https://batdongsa...|           An Lạc|\n",
      "|       65|13500000000|LÔ GÓC  KINH DOAN...|26/09/2024|Sổ đỏ/ Sổ hồng| Bắc Từ Liêm|           5|              5|     Hà Nội|BÂN NHÀ CẦU DIỄN ...|{66fd776a0d78f842...|https://batdongsa...|         Cầu Diễn|\n",
      "|       42| 4010000000| Nhà tại NguyễnVă...|26/09/2024|Sổ đỏ/ Sổ hồng|      Gò Vấp|           3|              2|Hồ Chí Minh|Ch.ủ thở oxy Hơn ...|{66fd776a0d78f842...|https://batdongsa...|  Nguyễn Văn Khối|\n",
      "|       30|14900000000| Mặt trước phố Xã...|26/09/2024|Sổ đỏ/ Sổ hồng|     Đống Đa|           4|              4|     Hà Nội|Bán nhà mặt phố L...|{66fd776a0d78f842...|https://batdongsa...|           Xã Đàn|\n",
      "+---------+-----------+--------------------+----------+--------------+------------+------------+---------------+-----------+--------------------+--------------------+--------------------+-----------------+\n",
      "only showing top 20 rows\n",
      "\n"
     ]
    }
   ],
   "source": [
    "#doc du lieu tu mongo\n",
    "df=spark.read.format(\"mongo\").option(\"collection\",\"batdongsan_data\").load()\n",
    "#hien du lieu\n",
    "df.show() "
   ]
  },
  {
   "cell_type": "code",
   "execution_count": 6,
   "metadata": {},
   "outputs": [
    {
     "data": {
      "text/plain": [
       "['Diện tích',\n",
       " 'Giá',\n",
       " 'Mô tả',\n",
       " 'Ngày đăng',\n",
       " 'Pháp lý',\n",
       " 'Quận',\n",
       " 'Số phòng ngủ',\n",
       " 'Số phòng toilet',\n",
       " 'Thành phố',\n",
       " 'Tiêu đề',\n",
       " '_id',\n",
       " 'chi_tiet_link',\n",
       " 'Đường']"
      ]
     },
     "execution_count": 6,
     "metadata": {},
     "output_type": "execute_result"
    }
   ],
   "source": [
    "df.columns"
   ]
  },
  {
   "cell_type": "code",
   "execution_count": 17,
   "metadata": {},
   "outputs": [
    {
     "name": "stdout",
     "output_type": "stream",
     "text": [
      "7\n",
      "15\n",
      "11\n",
      "42\n",
      "3\n",
      "8\n",
      "22\n",
      "16\n",
      "35\n",
      "5\n",
      "18\n",
      "27\n",
      "17\n",
      "26\n",
      "6\n",
      "19\n",
      "23\n",
      "9\n",
      "24\n",
      "1\n",
      "20\n",
      "10\n",
      "4\n",
      "12\n",
      "13\n",
      "14\n",
      "2\n",
      "45\n",
      "None\n"
     ]
    }
   ],
   "source": [
    "# Đếm số lượng giá trị phân biệt trong cột 'column_name'\n",
    "distinct_count = df.select(\"Số phòng ngủ\").distinct()\n",
    "for i in distinct_count.collect():\n",
    "    print(i[0])\n"
   ]
  },
  {
   "cell_type": "code",
   "execution_count": 19,
   "metadata": {},
   "outputs": [
    {
     "name": "stdout",
     "output_type": "stream",
     "text": [
      "Số lượng giá trị NA trong cột \"Số phòng ngủ\": 135\n"
     ]
    }
   ],
   "source": [
    "# Đếm số lượng giá trị null trong cột 'Số phòng ngủ'\n",
    "count_na = df.filter(df['Số phòng ngủ'].isNull()).count()\n",
    "\n",
    "print(f'Số lượng giá trị NA trong cột \"Số phòng ngủ\": {count_na}')\n"
   ]
  },
  {
   "cell_type": "code",
   "execution_count": null,
   "metadata": {},
   "outputs": [],
   "source": []
  },
  {
   "cell_type": "code",
   "execution_count": null,
   "metadata": {},
   "outputs": [],
   "source": []
  }
 ],
 "metadata": {
  "kernelspec": {
   "display_name": "Python 3",
   "language": "python",
   "name": "python3"
  },
  "language_info": {
   "codemirror_mode": {
    "name": "ipython",
    "version": 3
   },
   "file_extension": ".py",
   "mimetype": "text/x-python",
   "name": "python",
   "nbconvert_exporter": "python",
   "pygments_lexer": "ipython3",
   "version": "3.10.0"
  }
 },
 "nbformat": 4,
 "nbformat_minor": 2
}
