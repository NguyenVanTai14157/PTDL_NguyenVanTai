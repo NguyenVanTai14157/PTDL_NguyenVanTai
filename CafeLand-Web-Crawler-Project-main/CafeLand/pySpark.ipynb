{
 "cells": [
  {
   "cell_type": "code",
   "execution_count": 1,
   "metadata": {},
   "outputs": [],
   "source": [
    "import pandas as pd\n",
    "import numpy as np\n",
    "from pymongo import MongoClient\n",
    "from pyspark.sql import SparkSession"
   ]
  },
  {
   "cell_type": "code",
   "execution_count": 3,
   "metadata": {},
   "outputs": [
    {
     "ename": "Py4JJavaError",
     "evalue": "An error occurred while calling None.org.apache.spark.api.java.JavaSparkContext.\n: java.lang.UnsupportedOperationException: getSubject is supported only if a security manager is allowed\r\n\tat java.base/javax.security.auth.Subject.getSubject(Subject.java:347)\r\n\tat org.apache.hadoop.security.UserGroupInformation.getCurrentUser(UserGroupInformation.java:577)\r\n\tat org.apache.spark.util.Utils$.$anonfun$getCurrentUserName$1(Utils.scala:2416)\r\n\tat scala.Option.getOrElse(Option.scala:189)\r\n\tat org.apache.spark.util.Utils$.getCurrentUserName(Utils.scala:2416)\r\n\tat org.apache.spark.SparkContext.<init>(SparkContext.scala:329)\r\n\tat org.apache.spark.api.java.JavaSparkContext.<init>(JavaSparkContext.scala:58)\r\n\tat java.base/jdk.internal.reflect.DirectConstructorHandleAccessor.newInstance(DirectConstructorHandleAccessor.java:62)\r\n\tat java.base/java.lang.reflect.Constructor.newInstanceWithCaller(Constructor.java:501)\r\n\tat java.base/java.lang.reflect.Constructor.newInstance(Constructor.java:485)\r\n\tat py4j.reflection.MethodInvoker.invoke(MethodInvoker.java:247)\r\n\tat py4j.reflection.ReflectionEngine.invoke(ReflectionEngine.java:374)\r\n\tat py4j.Gateway.invoke(Gateway.java:238)\r\n\tat py4j.commands.ConstructorCommand.invokeConstructor(ConstructorCommand.java:80)\r\n\tat py4j.commands.ConstructorCommand.execute(ConstructorCommand.java:69)\r\n\tat py4j.ClientServerConnection.waitForCommands(ClientServerConnection.java:182)\r\n\tat py4j.ClientServerConnection.run(ClientServerConnection.java:106)\r\n\tat java.base/java.lang.Thread.run(Thread.java:1575)\r\n",
     "output_type": "error",
     "traceback": [
      "\u001b[1;31m---------------------------------------------------------------------------\u001b[0m",
      "\u001b[1;31mPy4JJavaError\u001b[0m                             Traceback (most recent call last)",
      "Cell \u001b[1;32mIn[3], line 7\u001b[0m\n\u001b[0;32m      1\u001b[0m \u001b[38;5;66;03m# Khởi tạo SparkSession\u001b[39;00m\n\u001b[0;32m      2\u001b[0m \u001b[38;5;28;01mfrom\u001b[39;00m \u001b[38;5;21;01mpyspark\u001b[39;00m\u001b[38;5;21;01m.\u001b[39;00m\u001b[38;5;21;01msql\u001b[39;00m \u001b[38;5;28;01mimport\u001b[39;00m SparkSession\n\u001b[0;32m      3\u001b[0m spark \u001b[38;5;241m=\u001b[39m \u001b[43mSparkSession\u001b[49m\u001b[38;5;241;43m.\u001b[39;49m\u001b[43mbuilder\u001b[49m\u001b[43m \u001b[49m\u001b[43m\\\u001b[49m\n\u001b[0;32m      4\u001b[0m \u001b[43m    \u001b[49m\u001b[38;5;241;43m.\u001b[39;49m\u001b[43mappName\u001b[49m\u001b[43m(\u001b[49m\u001b[38;5;124;43m\"\u001b[39;49m\u001b[38;5;124;43mMongoDB to Spark\u001b[39;49m\u001b[38;5;124;43m\"\u001b[39;49m\u001b[43m)\u001b[49m\u001b[43m \u001b[49m\u001b[43m\\\u001b[49m\n\u001b[0;32m      5\u001b[0m \u001b[43m    \u001b[49m\u001b[38;5;241;43m.\u001b[39;49m\u001b[43mconfig\u001b[49m\u001b[43m(\u001b[49m\u001b[38;5;124;43m\"\u001b[39;49m\u001b[38;5;124;43mspark.mongodb.input.uri\u001b[39;49m\u001b[38;5;124;43m\"\u001b[39;49m\u001b[43m,\u001b[49m\u001b[43m \u001b[49m\u001b[38;5;124;43m\"\u001b[39;49m\u001b[38;5;124;43mmongodb://localhost:27017/dbmycrawler.tblcafeland\u001b[39;49m\u001b[38;5;124;43m\"\u001b[39;49m\u001b[43m)\u001b[49m\u001b[43m \u001b[49m\u001b[43m\\\u001b[49m\n\u001b[0;32m      6\u001b[0m \u001b[43m    \u001b[49m\u001b[38;5;241;43m.\u001b[39;49m\u001b[43mconfig\u001b[49m\u001b[43m(\u001b[49m\u001b[38;5;124;43m\"\u001b[39;49m\u001b[38;5;124;43mspark.mongodb.output.uri\u001b[39;49m\u001b[38;5;124;43m\"\u001b[39;49m\u001b[43m,\u001b[49m\u001b[43m \u001b[49m\u001b[38;5;124;43m\"\u001b[39;49m\u001b[38;5;124;43mmongodb://localhost:27017/dbmycrawler.tblcafeland\u001b[39;49m\u001b[38;5;124;43m\"\u001b[39;49m\u001b[43m)\u001b[49m\u001b[43m \u001b[49m\u001b[43m\\\u001b[49m\n\u001b[1;32m----> 7\u001b[0m \u001b[43m    \u001b[49m\u001b[38;5;241;43m.\u001b[39;49m\u001b[43mgetOrCreate\u001b[49m\u001b[43m(\u001b[49m\u001b[43m)\u001b[49m\n",
      "File \u001b[1;32m~\\AppData\\Roaming\\Python\\Python312\\site-packages\\pyspark\\sql\\session.py:497\u001b[0m, in \u001b[0;36mSparkSession.Builder.getOrCreate\u001b[1;34m(self)\u001b[0m\n\u001b[0;32m    495\u001b[0m     sparkConf\u001b[38;5;241m.\u001b[39mset(key, value)\n\u001b[0;32m    496\u001b[0m \u001b[38;5;66;03m# This SparkContext may be an existing one.\u001b[39;00m\n\u001b[1;32m--> 497\u001b[0m sc \u001b[38;5;241m=\u001b[39m \u001b[43mSparkContext\u001b[49m\u001b[38;5;241;43m.\u001b[39;49m\u001b[43mgetOrCreate\u001b[49m\u001b[43m(\u001b[49m\u001b[43msparkConf\u001b[49m\u001b[43m)\u001b[49m\n\u001b[0;32m    498\u001b[0m \u001b[38;5;66;03m# Do not update `SparkConf` for existing `SparkContext`, as it's shared\u001b[39;00m\n\u001b[0;32m    499\u001b[0m \u001b[38;5;66;03m# by all sessions.\u001b[39;00m\n\u001b[0;32m    500\u001b[0m session \u001b[38;5;241m=\u001b[39m SparkSession(sc, options\u001b[38;5;241m=\u001b[39m\u001b[38;5;28mself\u001b[39m\u001b[38;5;241m.\u001b[39m_options)\n",
      "File \u001b[1;32m~\\AppData\\Roaming\\Python\\Python312\\site-packages\\pyspark\\context.py:515\u001b[0m, in \u001b[0;36mSparkContext.getOrCreate\u001b[1;34m(cls, conf)\u001b[0m\n\u001b[0;32m    513\u001b[0m \u001b[38;5;28;01mwith\u001b[39;00m SparkContext\u001b[38;5;241m.\u001b[39m_lock:\n\u001b[0;32m    514\u001b[0m     \u001b[38;5;28;01mif\u001b[39;00m SparkContext\u001b[38;5;241m.\u001b[39m_active_spark_context \u001b[38;5;129;01mis\u001b[39;00m \u001b[38;5;28;01mNone\u001b[39;00m:\n\u001b[1;32m--> 515\u001b[0m         \u001b[43mSparkContext\u001b[49m\u001b[43m(\u001b[49m\u001b[43mconf\u001b[49m\u001b[38;5;241;43m=\u001b[39;49m\u001b[43mconf\u001b[49m\u001b[43m \u001b[49m\u001b[38;5;129;43;01mor\u001b[39;49;00m\u001b[43m \u001b[49m\u001b[43mSparkConf\u001b[49m\u001b[43m(\u001b[49m\u001b[43m)\u001b[49m\u001b[43m)\u001b[49m\n\u001b[0;32m    516\u001b[0m     \u001b[38;5;28;01massert\u001b[39;00m SparkContext\u001b[38;5;241m.\u001b[39m_active_spark_context \u001b[38;5;129;01mis\u001b[39;00m \u001b[38;5;129;01mnot\u001b[39;00m \u001b[38;5;28;01mNone\u001b[39;00m\n\u001b[0;32m    517\u001b[0m     \u001b[38;5;28;01mreturn\u001b[39;00m SparkContext\u001b[38;5;241m.\u001b[39m_active_spark_context\n",
      "File \u001b[1;32m~\\AppData\\Roaming\\Python\\Python312\\site-packages\\pyspark\\context.py:203\u001b[0m, in \u001b[0;36mSparkContext.__init__\u001b[1;34m(self, master, appName, sparkHome, pyFiles, environment, batchSize, serializer, conf, gateway, jsc, profiler_cls, udf_profiler_cls, memory_profiler_cls)\u001b[0m\n\u001b[0;32m    201\u001b[0m SparkContext\u001b[38;5;241m.\u001b[39m_ensure_initialized(\u001b[38;5;28mself\u001b[39m, gateway\u001b[38;5;241m=\u001b[39mgateway, conf\u001b[38;5;241m=\u001b[39mconf)\n\u001b[0;32m    202\u001b[0m \u001b[38;5;28;01mtry\u001b[39;00m:\n\u001b[1;32m--> 203\u001b[0m     \u001b[38;5;28;43mself\u001b[39;49m\u001b[38;5;241;43m.\u001b[39;49m\u001b[43m_do_init\u001b[49m\u001b[43m(\u001b[49m\n\u001b[0;32m    204\u001b[0m \u001b[43m        \u001b[49m\u001b[43mmaster\u001b[49m\u001b[43m,\u001b[49m\n\u001b[0;32m    205\u001b[0m \u001b[43m        \u001b[49m\u001b[43mappName\u001b[49m\u001b[43m,\u001b[49m\n\u001b[0;32m    206\u001b[0m \u001b[43m        \u001b[49m\u001b[43msparkHome\u001b[49m\u001b[43m,\u001b[49m\n\u001b[0;32m    207\u001b[0m \u001b[43m        \u001b[49m\u001b[43mpyFiles\u001b[49m\u001b[43m,\u001b[49m\n\u001b[0;32m    208\u001b[0m \u001b[43m        \u001b[49m\u001b[43menvironment\u001b[49m\u001b[43m,\u001b[49m\n\u001b[0;32m    209\u001b[0m \u001b[43m        \u001b[49m\u001b[43mbatchSize\u001b[49m\u001b[43m,\u001b[49m\n\u001b[0;32m    210\u001b[0m \u001b[43m        \u001b[49m\u001b[43mserializer\u001b[49m\u001b[43m,\u001b[49m\n\u001b[0;32m    211\u001b[0m \u001b[43m        \u001b[49m\u001b[43mconf\u001b[49m\u001b[43m,\u001b[49m\n\u001b[0;32m    212\u001b[0m \u001b[43m        \u001b[49m\u001b[43mjsc\u001b[49m\u001b[43m,\u001b[49m\n\u001b[0;32m    213\u001b[0m \u001b[43m        \u001b[49m\u001b[43mprofiler_cls\u001b[49m\u001b[43m,\u001b[49m\n\u001b[0;32m    214\u001b[0m \u001b[43m        \u001b[49m\u001b[43mudf_profiler_cls\u001b[49m\u001b[43m,\u001b[49m\n\u001b[0;32m    215\u001b[0m \u001b[43m        \u001b[49m\u001b[43mmemory_profiler_cls\u001b[49m\u001b[43m,\u001b[49m\n\u001b[0;32m    216\u001b[0m \u001b[43m    \u001b[49m\u001b[43m)\u001b[49m\n\u001b[0;32m    217\u001b[0m \u001b[38;5;28;01mexcept\u001b[39;00m \u001b[38;5;167;01mBaseException\u001b[39;00m:\n\u001b[0;32m    218\u001b[0m     \u001b[38;5;66;03m# If an error occurs, clean up in order to allow future SparkContext creation:\u001b[39;00m\n\u001b[0;32m    219\u001b[0m     \u001b[38;5;28mself\u001b[39m\u001b[38;5;241m.\u001b[39mstop()\n",
      "File \u001b[1;32m~\\AppData\\Roaming\\Python\\Python312\\site-packages\\pyspark\\context.py:296\u001b[0m, in \u001b[0;36mSparkContext._do_init\u001b[1;34m(self, master, appName, sparkHome, pyFiles, environment, batchSize, serializer, conf, jsc, profiler_cls, udf_profiler_cls, memory_profiler_cls)\u001b[0m\n\u001b[0;32m    293\u001b[0m \u001b[38;5;28mself\u001b[39m\u001b[38;5;241m.\u001b[39menvironment[\u001b[38;5;124m\"\u001b[39m\u001b[38;5;124mPYTHONHASHSEED\u001b[39m\u001b[38;5;124m\"\u001b[39m] \u001b[38;5;241m=\u001b[39m os\u001b[38;5;241m.\u001b[39menviron\u001b[38;5;241m.\u001b[39mget(\u001b[38;5;124m\"\u001b[39m\u001b[38;5;124mPYTHONHASHSEED\u001b[39m\u001b[38;5;124m\"\u001b[39m, \u001b[38;5;124m\"\u001b[39m\u001b[38;5;124m0\u001b[39m\u001b[38;5;124m\"\u001b[39m)\n\u001b[0;32m    295\u001b[0m \u001b[38;5;66;03m# Create the Java SparkContext through Py4J\u001b[39;00m\n\u001b[1;32m--> 296\u001b[0m \u001b[38;5;28mself\u001b[39m\u001b[38;5;241m.\u001b[39m_jsc \u001b[38;5;241m=\u001b[39m jsc \u001b[38;5;129;01mor\u001b[39;00m \u001b[38;5;28;43mself\u001b[39;49m\u001b[38;5;241;43m.\u001b[39;49m\u001b[43m_initialize_context\u001b[49m\u001b[43m(\u001b[49m\u001b[38;5;28;43mself\u001b[39;49m\u001b[38;5;241;43m.\u001b[39;49m\u001b[43m_conf\u001b[49m\u001b[38;5;241;43m.\u001b[39;49m\u001b[43m_jconf\u001b[49m\u001b[43m)\u001b[49m\n\u001b[0;32m    297\u001b[0m \u001b[38;5;66;03m# Reset the SparkConf to the one actually used by the SparkContext in JVM.\u001b[39;00m\n\u001b[0;32m    298\u001b[0m \u001b[38;5;28mself\u001b[39m\u001b[38;5;241m.\u001b[39m_conf \u001b[38;5;241m=\u001b[39m SparkConf(_jconf\u001b[38;5;241m=\u001b[39m\u001b[38;5;28mself\u001b[39m\u001b[38;5;241m.\u001b[39m_jsc\u001b[38;5;241m.\u001b[39msc()\u001b[38;5;241m.\u001b[39mconf())\n",
      "File \u001b[1;32m~\\AppData\\Roaming\\Python\\Python312\\site-packages\\pyspark\\context.py:421\u001b[0m, in \u001b[0;36mSparkContext._initialize_context\u001b[1;34m(self, jconf)\u001b[0m\n\u001b[0;32m    417\u001b[0m \u001b[38;5;250m\u001b[39m\u001b[38;5;124;03m\"\"\"\u001b[39;00m\n\u001b[0;32m    418\u001b[0m \u001b[38;5;124;03mInitialize SparkContext in function to allow subclass specific initialization\u001b[39;00m\n\u001b[0;32m    419\u001b[0m \u001b[38;5;124;03m\"\"\"\u001b[39;00m\n\u001b[0;32m    420\u001b[0m \u001b[38;5;28;01massert\u001b[39;00m \u001b[38;5;28mself\u001b[39m\u001b[38;5;241m.\u001b[39m_jvm \u001b[38;5;129;01mis\u001b[39;00m \u001b[38;5;129;01mnot\u001b[39;00m \u001b[38;5;28;01mNone\u001b[39;00m\n\u001b[1;32m--> 421\u001b[0m \u001b[38;5;28;01mreturn\u001b[39;00m \u001b[38;5;28;43mself\u001b[39;49m\u001b[38;5;241;43m.\u001b[39;49m\u001b[43m_jvm\u001b[49m\u001b[38;5;241;43m.\u001b[39;49m\u001b[43mJavaSparkContext\u001b[49m\u001b[43m(\u001b[49m\u001b[43mjconf\u001b[49m\u001b[43m)\u001b[49m\n",
      "File \u001b[1;32m~\\AppData\\Roaming\\Python\\Python312\\site-packages\\py4j\\java_gateway.py:1587\u001b[0m, in \u001b[0;36mJavaClass.__call__\u001b[1;34m(self, *args)\u001b[0m\n\u001b[0;32m   1581\u001b[0m command \u001b[38;5;241m=\u001b[39m proto\u001b[38;5;241m.\u001b[39mCONSTRUCTOR_COMMAND_NAME \u001b[38;5;241m+\u001b[39m\\\n\u001b[0;32m   1582\u001b[0m     \u001b[38;5;28mself\u001b[39m\u001b[38;5;241m.\u001b[39m_command_header \u001b[38;5;241m+\u001b[39m\\\n\u001b[0;32m   1583\u001b[0m     args_command \u001b[38;5;241m+\u001b[39m\\\n\u001b[0;32m   1584\u001b[0m     proto\u001b[38;5;241m.\u001b[39mEND_COMMAND_PART\n\u001b[0;32m   1586\u001b[0m answer \u001b[38;5;241m=\u001b[39m \u001b[38;5;28mself\u001b[39m\u001b[38;5;241m.\u001b[39m_gateway_client\u001b[38;5;241m.\u001b[39msend_command(command)\n\u001b[1;32m-> 1587\u001b[0m return_value \u001b[38;5;241m=\u001b[39m \u001b[43mget_return_value\u001b[49m\u001b[43m(\u001b[49m\n\u001b[0;32m   1588\u001b[0m \u001b[43m    \u001b[49m\u001b[43manswer\u001b[49m\u001b[43m,\u001b[49m\u001b[43m \u001b[49m\u001b[38;5;28;43mself\u001b[39;49m\u001b[38;5;241;43m.\u001b[39;49m\u001b[43m_gateway_client\u001b[49m\u001b[43m,\u001b[49m\u001b[43m \u001b[49m\u001b[38;5;28;43;01mNone\u001b[39;49;00m\u001b[43m,\u001b[49m\u001b[43m \u001b[49m\u001b[38;5;28;43mself\u001b[39;49m\u001b[38;5;241;43m.\u001b[39;49m\u001b[43m_fqn\u001b[49m\u001b[43m)\u001b[49m\n\u001b[0;32m   1590\u001b[0m \u001b[38;5;28;01mfor\u001b[39;00m temp_arg \u001b[38;5;129;01min\u001b[39;00m temp_args:\n\u001b[0;32m   1591\u001b[0m     \u001b[38;5;28;01mif\u001b[39;00m \u001b[38;5;28mhasattr\u001b[39m(temp_arg, \u001b[38;5;124m\"\u001b[39m\u001b[38;5;124m_detach\u001b[39m\u001b[38;5;124m\"\u001b[39m):\n",
      "File \u001b[1;32m~\\AppData\\Roaming\\Python\\Python312\\site-packages\\py4j\\protocol.py:326\u001b[0m, in \u001b[0;36mget_return_value\u001b[1;34m(answer, gateway_client, target_id, name)\u001b[0m\n\u001b[0;32m    324\u001b[0m value \u001b[38;5;241m=\u001b[39m OUTPUT_CONVERTER[\u001b[38;5;28mtype\u001b[39m](answer[\u001b[38;5;241m2\u001b[39m:], gateway_client)\n\u001b[0;32m    325\u001b[0m \u001b[38;5;28;01mif\u001b[39;00m answer[\u001b[38;5;241m1\u001b[39m] \u001b[38;5;241m==\u001b[39m REFERENCE_TYPE:\n\u001b[1;32m--> 326\u001b[0m     \u001b[38;5;28;01mraise\u001b[39;00m Py4JJavaError(\n\u001b[0;32m    327\u001b[0m         \u001b[38;5;124m\"\u001b[39m\u001b[38;5;124mAn error occurred while calling \u001b[39m\u001b[38;5;132;01m{0}\u001b[39;00m\u001b[38;5;132;01m{1}\u001b[39;00m\u001b[38;5;132;01m{2}\u001b[39;00m\u001b[38;5;124m.\u001b[39m\u001b[38;5;130;01m\\n\u001b[39;00m\u001b[38;5;124m\"\u001b[39m\u001b[38;5;241m.\u001b[39m\n\u001b[0;32m    328\u001b[0m         \u001b[38;5;28mformat\u001b[39m(target_id, \u001b[38;5;124m\"\u001b[39m\u001b[38;5;124m.\u001b[39m\u001b[38;5;124m\"\u001b[39m, name), value)\n\u001b[0;32m    329\u001b[0m \u001b[38;5;28;01melse\u001b[39;00m:\n\u001b[0;32m    330\u001b[0m     \u001b[38;5;28;01mraise\u001b[39;00m Py4JError(\n\u001b[0;32m    331\u001b[0m         \u001b[38;5;124m\"\u001b[39m\u001b[38;5;124mAn error occurred while calling \u001b[39m\u001b[38;5;132;01m{0}\u001b[39;00m\u001b[38;5;132;01m{1}\u001b[39;00m\u001b[38;5;132;01m{2}\u001b[39;00m\u001b[38;5;124m. Trace:\u001b[39m\u001b[38;5;130;01m\\n\u001b[39;00m\u001b[38;5;132;01m{3}\u001b[39;00m\u001b[38;5;130;01m\\n\u001b[39;00m\u001b[38;5;124m\"\u001b[39m\u001b[38;5;241m.\u001b[39m\n\u001b[0;32m    332\u001b[0m         \u001b[38;5;28mformat\u001b[39m(target_id, \u001b[38;5;124m\"\u001b[39m\u001b[38;5;124m.\u001b[39m\u001b[38;5;124m\"\u001b[39m, name, value))\n",
      "\u001b[1;31mPy4JJavaError\u001b[0m: An error occurred while calling None.org.apache.spark.api.java.JavaSparkContext.\n: java.lang.UnsupportedOperationException: getSubject is supported only if a security manager is allowed\r\n\tat java.base/javax.security.auth.Subject.getSubject(Subject.java:347)\r\n\tat org.apache.hadoop.security.UserGroupInformation.getCurrentUser(UserGroupInformation.java:577)\r\n\tat org.apache.spark.util.Utils$.$anonfun$getCurrentUserName$1(Utils.scala:2416)\r\n\tat scala.Option.getOrElse(Option.scala:189)\r\n\tat org.apache.spark.util.Utils$.getCurrentUserName(Utils.scala:2416)\r\n\tat org.apache.spark.SparkContext.<init>(SparkContext.scala:329)\r\n\tat org.apache.spark.api.java.JavaSparkContext.<init>(JavaSparkContext.scala:58)\r\n\tat java.base/jdk.internal.reflect.DirectConstructorHandleAccessor.newInstance(DirectConstructorHandleAccessor.java:62)\r\n\tat java.base/java.lang.reflect.Constructor.newInstanceWithCaller(Constructor.java:501)\r\n\tat java.base/java.lang.reflect.Constructor.newInstance(Constructor.java:485)\r\n\tat py4j.reflection.MethodInvoker.invoke(MethodInvoker.java:247)\r\n\tat py4j.reflection.ReflectionEngine.invoke(ReflectionEngine.java:374)\r\n\tat py4j.Gateway.invoke(Gateway.java:238)\r\n\tat py4j.commands.ConstructorCommand.invokeConstructor(ConstructorCommand.java:80)\r\n\tat py4j.commands.ConstructorCommand.execute(ConstructorCommand.java:69)\r\n\tat py4j.ClientServerConnection.waitForCommands(ClientServerConnection.java:182)\r\n\tat py4j.ClientServerConnection.run(ClientServerConnection.java:106)\r\n\tat java.base/java.lang.Thread.run(Thread.java:1575)\r\n"
     ]
    }
   ],
   "source": [
    "# Khởi tạo SparkSession\n",
    "spark = SparkSession.builder \\\n",
    "    .appName(\"MongoDB to Spark\") \\\n",
    "    .config(\"spark.mongodb.input.uri\", \"mongodb://localhost:27017/dbmycrawler.tblcafeland\") \\\n",
    "    .config(\"spark.mongodb.output.uri\", \"mongodb://localhost:27017/dbmycrawler.tblcafeland\") \\\n",
    "    .getOrCreate()"
   ]
  },
  {
   "cell_type": "code",
   "execution_count": null,
   "metadata": {},
   "outputs": [],
   "source": [
    "# Kết nối tới MongoDB\n",
    "client = MongoClient(\"mongodb://localhost:27017/\")\n",
    "db = client[\"dbmycrawler\"] \n",
    "collection = db[\"tblcafeland\"]  "
   ]
  },
  {
   "cell_type": "code",
   "execution_count": null,
   "metadata": {},
   "outputs": [],
   "source": [
    "# 2. Đọc dữ liệu trực tiếp từ MongoDB\n",
    "df = spark.read \\\n",
    "    .format(\"mongo\") \\\n",
    "    .option(\"uri\", \"mongodb://localhost:27017/dbmycrawler.tblcafeland\") \\\n",
    "    .load()\n",
    "\n",
    "# 3. Hiển thị cấu trúc dữ liệu\n",
    "df.printSchema()"
   ]
  },
  {
   "cell_type": "code",
   "execution_count": 4,
   "metadata": {},
   "outputs": [],
   "source": [
    "from pyspark.sql.functions import regexp_replace, when, col\n",
    "from pyspark.sql.types import DoubleType, DateType"
   ]
  },
  {
   "cell_type": "code",
   "execution_count": 212,
   "metadata": {},
   "outputs": [
    {
     "name": "stdout",
     "output_type": "stream",
     "text": [
      "+------------------+--------------------+--------------------+--------------------+--------------------+-----------+----------+--------------------+-----------------+--------+--------------------+\n",
      "|        Loại dự án|           Tên dự án|               Đường|           Thành phố|          Chủ đầu tư| Trạng thái|Diện tích:|           Ngày đăng|  Tổng vốn đầu tư|Xếp hạng|               Mô tả|\n",
      "+------------------+--------------------+--------------------+--------------------+--------------------+-----------+----------+--------------------+-----------------+--------+--------------------+\n",
      "|     Đất Nền Dự Án|The Long Eyes: Dự...|   đường Sông Thao 5|           Trảng Bom|Công Ty Cổ Phần B...|Đang mở bán|    8200.0|Cập nhật: 12/09/2...|    chưa cập nhật|     5.0|The Long Eyes là ...|\n",
      "|Nhà Phố - Biệt Thự|Tổ hợp biệt thự, ...|khu đô thị Ciputr...|              Tây Hồ|   Tập đoàn Sunshine|Đang mở bán|  101000.0|Cập nhật: 27/09/2...|    chưa cập nhật|     0.0|Noble Palace Tây ...|\n",
      "|    Loại Hình Khác|Noble Empire: Khu...|khu đô thị Ciputr...|              Tây Hồ|   Tập đoàn Sunshine|Đang mở bán|   52000.0|Cập nhật: 30/09/2...|    5.000 tỷ đồng|     0.0|Noble Empire là d...|\n",
      "|   Căn hộ chung cư|Căn hộ Phú Đông S...|       đường An Bình|           TP. Dĩ An|Công ty Cổ phần Đ...|Đang mở bán|      NULL|Cập nhật: 11/09/2...|    chưa cập nhật|     4.3|Phú Đông Sky Gard...|\n",
      "|   Căn hộ chung cư|Phú Đông Sky One:...|       đường DT 743C|           TP. Dĩ An|Công ty Cổ phần Đ...|Đang mở bán|    5615.0|Cập nhật: 11/09/2...|    chưa cập nhật|     0.0|Phú Đông Sky One ...|\n",
      "|   Căn hộ chung cư|Eaton Park: Dự án...|  Đại lộ Mai Chí Thọ|Quận 2 - TP. Thủ Đức|Gamuda Land Việt Nam|Đang mở bán|   36800.0|Cập nhật: 11/09/2...|   26.000 tỷ đồng|     0.0|Dự án tổ hợp căn ...|\n",
      "|        Khu Đô Thị|LA Home: Dự án Kh...|             Bến Lức|             Long An|Công ty Cổ phần P...|Đang mở bán| 1014000.0|Cập nhật: 11/09/2...|    2.936 tỷ đồng|     0.0|LA Home có vị trí...|\n",
      "|   Căn hộ chung cư|Golden City: Dự á...|số 6 đường Hồ Văn...|        TP. Tây Ninh|Công ty Cổ phần Đ...|Đang mở bán| 3.35407E8|Cập nhật: 25/09/2...|hơn 2.200 tỷ đồng|     0.0|Golden City là că...|\n",
      "|   Căn hộ chung cư|Setia Gardens Res...| Khu đô thị Eco Xuân| mặt tiền Quốc lộ 13|Công ty TNHH MTV ...|Đang mở bán|   12389.0|Cập nhật: 13/09/2...|    chưa cập nhật|     0.0|Setia Gardens Res...|\n",
      "|Nhà Phố - Biệt Thự|Dự án Sun Festiva...|        đảo Hòn Thơm|        TP. Phú Quốc|Công ty Cổ phần T...|Đang mở bán|  305000.0|Cập nhật: 16/09/2...|    chưa cập nhật|     0.0|Sun Festival Aven...|\n",
      "|Nhà Phố - Biệt Thự|Phân khu Miyabi –...|    thuộc Đảo Vũ Yên|         Thủy Nguyên|Tập đoàn Vingroup...|Đang mở bán|      NULL|Cập nhật: 18/09/2...|    chưa cập nhật|     5.0|Phân khu Miyabi l...|\n",
      "|   Căn hộ chung cư|Dự án Noble Cryst...|         Lô đất CT01|Khu đô thị Quốc t...|Công ty cổ phần b...|Đang mở bán|   50850.0|Cập nhật: 19/09/2...|   12.286 tỷ đồng|     0.0|Noble Crystal Tây...|\n",
      "|Nhà Phố - Biệt Thự|Cát Tường J-Home ...|               DT743|        TP. Thuận An|Công ty TNHH Bất ...|Đang mở bán|   23000.0|Cập nhật: 23/09/2...|    chưa cập nhật|     0.0|Cát Tường J-Home ...|\n",
      "|Nhà Phố - Biệt Thự|Noble Palace Long...|    phường Việt Hưng|      quận Long Biên|   Tập đoàn Sunshine|Đang mở bán|   27000.0|Cập nhật: 24/09/2...|    3.000 tỷ đồng|     0.0|Noble Palace Long...|\n",
      "|   Căn hộ chung cư|Dự án Noble Cryst...|đường Vũ Đức T...|           Long Biên|   Tập đoàn Sunshine|Đang mở bán|   17000.0|Cập nhật: 27/09/2...|    8.800 tỷ đồng|     0.0|Noble Crystal Lon...|\n",
      "|   Căn hộ chung cư|HQC Tân Hương: Dự...|         đường số 14|          Châu Thành|Công ty Cổ phần T...|Đang mở bán| 1.41878E8|Cập nhật: 11/09/2...|      530 tỷ đồng|     0.0|Dự án HQC Tân Hươ...|\n",
      "|        Khu Đô Thị|Khu phố thương mạ...|góc đường An Dươn...|     TP. Thủ Dầu Một|Công ty Cổ phần K...|Đang mở bán|    8660.0|Cập nhật: 24/08/2...|      631 tỷ đồng|     0.0|Uni Complex là dự...|\n",
      "|        Khu Đô Thị|The Centric: Tổ h...|       đường Đỗ Mười|         Thủy Nguyên|Công ty Cổ phần D...|Đang mở bán|   72600.0|Cập nhật: 12/09/2...| gần 1.323 tỷ đồg|     0.0|The Centric là tổ...|\n",
      "|   Căn hộ chung cư|The Orchard Hill:...|mặt tiền đường Hù...|       phường Phú Mỹ|Công ty TNHH Syca...|Đang mở bán|   11000.0|Cập nhật: 05/09/2...|    chưa cập nhật|     5.0|The Orchard Hill ...|\n",
      "|Nhà Phố - Biệt Thự|Phân khu Golf Lan...|          đảo Vũ Yên|         Thủy Nguyên|Tập đoàn Vingroup...|Đang mở bán|      NULL|Cập nhật: 05/09/2...|    chưa cập nhật|     0.0|Phân khu Golf Lan...|\n",
      "+------------------+--------------------+--------------------+--------------------+--------------------+-----------+----------+--------------------+-----------------+--------+--------------------+\n",
      "only showing top 20 rows\n",
      "\n"
     ]
    }
   ],
   "source": [
    "#1. Xử lý đồng bộ đơn vị thành m2 cột diện tích\n",
    "#Xóa bỏ dấu chấm ở các dòng m2\n",
    "df = df.withColumn(\"Diện tích:\", regexp_replace(col(\"Diện tích:\"), \"\\\\.\", \"\"))\n",
    "\n",
    "#Đổi dấu phẩy ở dòng có chứa 'ha' thành dấu chấm\n",
    "df = df.withColumn(\"Diện tích:\", regexp_replace(col(\"Diện tích:\"), \",\", \".\"))\n",
    "\n",
    "#xóa bỏ chữ h2 và m2\n",
    "df = df.withColumn(\"Diện tích:\", regexp_replace(col(\"Diện tích:\"), \"ha|m2\", \"\"))\n",
    "\n",
    "#Dòng nào có chứa dấu . thì nhân với 10000 để dồng bộ đơn vị m2\n",
    "df = df.withColumn(\"Diện tích:\", \n",
    "                   when(col(\"Diện tích:\").contains(\".\"), col(\"Diện tích:\").cast(\"double\") * 10000) #Nếu chứa dấu . thì đổi sang kiểu double và * 10000\n",
    "                   .otherwise(col(\"Diện tích:\").cast(\"double\"))) #Nếu không chứa dấu chấm thì chỉ chuyển sang kiểu double\n",
    "\n",
    "df.show()"
   ]
  },
  {
   "cell_type": "code",
   "execution_count": 213,
   "metadata": {},
   "outputs": [
    {
     "name": "stdout",
     "output_type": "stream",
     "text": [
      "+------------------+--------------------+--------------------+--------------------+--------------------+-----------+----------+--------------------+---------------+--------+--------------------+\n",
      "|        Loại dự án|           Tên dự án|               Đường|           Thành phố|          Chủ đầu tư| Trạng thái|Diện tích:|           Ngày đăng|Tổng vốn đầu tư|Xếp hạng|               Mô tả|\n",
      "+------------------+--------------------+--------------------+--------------------+--------------------+-----------+----------+--------------------+---------------+--------+--------------------+\n",
      "|     Đất Nền Dự Án|The Long Eyes: Dự...|   đường Sông Thao 5|           Trảng Bom|Công Ty Cổ Phần B...|Đang mở bán|    8200.0|Cập nhật: 12/09/2...|         unknow|     5.0|The Long Eyes là ...|\n",
      "|Nhà Phố - Biệt Thự|Tổ hợp biệt thự, ...|khu đô thị Ciputr...|              Tây Hồ|   Tập đoàn Sunshine|Đang mở bán|  101000.0|Cập nhật: 27/09/2...|         unknow|     0.0|Noble Palace Tây ...|\n",
      "|    Loại Hình Khác|Noble Empire: Khu...|khu đô thị Ciputr...|              Tây Hồ|   Tập đoàn Sunshine|Đang mở bán|   52000.0|Cập nhật: 30/09/2...|         5000.0|     0.0|Noble Empire là d...|\n",
      "|   Căn hộ chung cư|Căn hộ Phú Đông S...|       đường An Bình|           TP. Dĩ An|Công ty Cổ phần Đ...|Đang mở bán|      NULL|Cập nhật: 11/09/2...|         unknow|     4.3|Phú Đông Sky Gard...|\n",
      "|   Căn hộ chung cư|Phú Đông Sky One:...|       đường DT 743C|           TP. Dĩ An|Công ty Cổ phần Đ...|Đang mở bán|    5615.0|Cập nhật: 11/09/2...|         unknow|     0.0|Phú Đông Sky One ...|\n",
      "|   Căn hộ chung cư|Eaton Park: Dự án...|  Đại lộ Mai Chí Thọ|Quận 2 - TP. Thủ Đức|Gamuda Land Việt Nam|Đang mở bán|   36800.0|Cập nhật: 11/09/2...|        26000.0|     0.0|Dự án tổ hợp căn ...|\n",
      "|        Khu Đô Thị|LA Home: Dự án Kh...|             Bến Lức|             Long An|Công ty Cổ phần P...|Đang mở bán| 1014000.0|Cập nhật: 11/09/2...|         2936.0|     0.0|LA Home có vị trí...|\n",
      "|   Căn hộ chung cư|Golden City: Dự á...|số 6 đường Hồ Văn...|        TP. Tây Ninh|Công ty Cổ phần Đ...|Đang mở bán| 3.35407E8|Cập nhật: 25/09/2...|           NULL|     0.0|Golden City là că...|\n",
      "|   Căn hộ chung cư|Setia Gardens Res...| Khu đô thị Eco Xuân| mặt tiền Quốc lộ 13|Công ty TNHH MTV ...|Đang mở bán|   12389.0|Cập nhật: 13/09/2...|         unknow|     0.0|Setia Gardens Res...|\n",
      "|Nhà Phố - Biệt Thự|Dự án Sun Festiva...|        đảo Hòn Thơm|        TP. Phú Quốc|Công ty Cổ phần T...|Đang mở bán|  305000.0|Cập nhật: 16/09/2...|         unknow|     0.0|Sun Festival Aven...|\n",
      "|Nhà Phố - Biệt Thự|Phân khu Miyabi –...|    thuộc Đảo Vũ Yên|         Thủy Nguyên|Tập đoàn Vingroup...|Đang mở bán|      NULL|Cập nhật: 18/09/2...|         unknow|     5.0|Phân khu Miyabi l...|\n",
      "|   Căn hộ chung cư|Dự án Noble Cryst...|         Lô đất CT01|Khu đô thị Quốc t...|Công ty cổ phần b...|Đang mở bán|   50850.0|Cập nhật: 19/09/2...|        12286.0|     0.0|Noble Crystal Tây...|\n",
      "|Nhà Phố - Biệt Thự|Cát Tường J-Home ...|               DT743|        TP. Thuận An|Công ty TNHH Bất ...|Đang mở bán|   23000.0|Cập nhật: 23/09/2...|         unknow|     0.0|Cát Tường J-Home ...|\n",
      "|Nhà Phố - Biệt Thự|Noble Palace Long...|    phường Việt Hưng|      quận Long Biên|   Tập đoàn Sunshine|Đang mở bán|   27000.0|Cập nhật: 24/09/2...|         3000.0|     0.0|Noble Palace Long...|\n",
      "|   Căn hộ chung cư|Dự án Noble Cryst...|đường Vũ Đức T...|           Long Biên|   Tập đoàn Sunshine|Đang mở bán|   17000.0|Cập nhật: 27/09/2...|         8800.0|     0.0|Noble Crystal Lon...|\n",
      "|   Căn hộ chung cư|HQC Tân Hương: Dự...|         đường số 14|          Châu Thành|Công ty Cổ phần T...|Đang mở bán| 1.41878E8|Cập nhật: 11/09/2...|       530000.0|     0.0|Dự án HQC Tân Hươ...|\n",
      "|        Khu Đô Thị|Khu phố thương mạ...|góc đường An Dươn...|     TP. Thủ Dầu Một|Công ty Cổ phần K...|Đang mở bán|    8660.0|Cập nhật: 24/08/2...|       631000.0|     0.0|Uni Complex là dự...|\n",
      "|        Khu Đô Thị|The Centric: Tổ h...|       đường Đỗ Mười|         Thủy Nguyên|Công ty Cổ phần D...|Đang mở bán|   72600.0|Cập nhật: 12/09/2...|         unknow|     0.0|The Centric là tổ...|\n",
      "|   Căn hộ chung cư|The Orchard Hill:...|mặt tiền đường Hù...|       phường Phú Mỹ|Công ty TNHH Syca...|Đang mở bán|   11000.0|Cập nhật: 05/09/2...|         unknow|     5.0|The Orchard Hill ...|\n",
      "|Nhà Phố - Biệt Thự|Phân khu Golf Lan...|          đảo Vũ Yên|         Thủy Nguyên|Tập đoàn Vingroup...|Đang mở bán|      NULL|Cập nhật: 05/09/2...|         unknow|     0.0|Phân khu Golf Lan...|\n",
      "+------------------+--------------------+--------------------+--------------------+--------------------+-----------+----------+--------------------+---------------+--------+--------------------+\n",
      "only showing top 20 rows\n",
      "\n"
     ]
    }
   ],
   "source": [
    "# 2. Làm sạch cột 'Tổng vốn đầu tư'\n",
    "# Loại bỏ \"tỷ đồng\" và chuyển đổi sang số thực\n",
    "df = df.withColumn(\"Tổng vốn đầu tư\", \n",
    "                   when(col(\"Tổng vốn đầu tư\").like(\"%tỷ đồng%\"), \n",
    "                        regexp_replace(col(\"Tổng vốn đầu tư\"), \" tỷ đồng\", \"\").cast(DoubleType()) * 1000)  # chuyển tỷ đồng thành số\n",
    "                   .otherwise(\"unknow\")\n",
    "                   )  # cho các giá trị chưa cập nhật thành unknow\n",
    "\n",
    "df.show()"
   ]
  },
  {
   "cell_type": "code",
   "execution_count": 214,
   "metadata": {},
   "outputs": [
    {
     "name": "stdout",
     "output_type": "stream",
     "text": [
      "+------------------+--------------------+--------------------+--------------------+--------------------+-----------+----------+--------------------+---------------+--------+--------------------+\n",
      "|        Loại dự án|           Tên dự án|               Đường|           Thành phố|          Chủ đầu tư| Trạng thái|Diện tích:|           Ngày đăng|Tổng vốn đầu tư|Xếp hạng|               Mô tả|\n",
      "+------------------+--------------------+--------------------+--------------------+--------------------+-----------+----------+--------------------+---------------+--------+--------------------+\n",
      "|     Đất Nền Dự Án|The Long Eyes: Dự...|   đường Sông Thao 5|           Trảng Bom|Công Ty Cổ Phần B...|Đang mở bán|    8200.0| .12/09/2024 8:49 AM|         unknow|     5.0|The Long Eyes là ...|\n",
      "|Nhà Phố - Biệt Thự|Tổ hợp biệt thự, ...|khu đô thị Ciputr...|              Tây Hồ|   Tập đoàn Sunshine|Đang mở bán|  101000.0| .27/09/2024 6:13 PM|         unknow|     0.0|Noble Palace Tây ...|\n",
      "|    Loại Hình Khác|Noble Empire: Khu...|khu đô thị Ciputr...|              Tây Hồ|   Tập đoàn Sunshine|Đang mở bán|   52000.0| .30/09/2024 4:17 PM|         5000.0|     0.0|Noble Empire là d...|\n",
      "|   Căn hộ chung cư|Căn hộ Phú Đông S...|       đường An Bình|           TP. Dĩ An|Công ty Cổ phần Đ...|Đang mở bán|      NULL| .11/09/2024 1:22 PM|         unknow|     4.3|Phú Đông Sky Gard...|\n",
      "|   Căn hộ chung cư|Phú Đông Sky One:...|       đường DT 743C|           TP. Dĩ An|Công ty Cổ phần Đ...|Đang mở bán|    5615.0| .11/09/2024 1:19 PM|         unknow|     0.0|Phú Đông Sky One ...|\n",
      "|   Căn hộ chung cư|Eaton Park: Dự án...|  Đại lộ Mai Chí Thọ|Quận 2 - TP. Thủ Đức|Gamuda Land Việt Nam|Đang mở bán|   36800.0| .11/09/2024 1:23 PM|        26000.0|     0.0|Dự án tổ hợp căn ...|\n",
      "|        Khu Đô Thị|LA Home: Dự án Kh...|             Bến Lức|             Long An|Công ty Cổ phần P...|Đang mở bán| 1014000.0| .11/09/2024 1:26 PM|         2936.0|     0.0|LA Home có vị trí...|\n",
      "|   Căn hộ chung cư|Golden City: Dự á...|số 6 đường Hồ Văn...|        TP. Tây Ninh|Công ty Cổ phần Đ...|Đang mở bán| 3.35407E8| .25/09/2024 9:05 AM|           NULL|     0.0|Golden City là că...|\n",
      "|   Căn hộ chung cư|Setia Gardens Res...| Khu đô thị Eco Xuân| mặt tiền Quốc lộ 13|Công ty TNHH MTV ...|Đang mở bán|   12389.0| .13/09/2024 1:37 PM|         unknow|     0.0|Setia Gardens Res...|\n",
      "|Nhà Phố - Biệt Thự|Dự án Sun Festiva...|        đảo Hòn Thơm|        TP. Phú Quốc|Công ty Cổ phần T...|Đang mở bán|  305000.0| .16/09/2024 8:47 PM|         unknow|     0.0|Sun Festival Aven...|\n",
      "|Nhà Phố - Biệt Thự|Phân khu Miyabi –...|    thuộc Đảo Vũ Yên|         Thủy Nguyên|Tập đoàn Vingroup...|Đang mở bán|      NULL|.18/09/2024 12:48 PM|         unknow|     5.0|Phân khu Miyabi l...|\n",
      "|   Căn hộ chung cư|Dự án Noble Cryst...|         Lô đất CT01|Khu đô thị Quốc t...|Công ty cổ phần b...|Đang mở bán|   50850.0| .19/09/2024 2:15 PM|        12286.0|     0.0|Noble Crystal Tây...|\n",
      "|Nhà Phố - Biệt Thự|Cát Tường J-Home ...|               DT743|        TP. Thuận An|Công ty TNHH Bất ...|Đang mở bán|   23000.0| .23/09/2024 4:03 PM|         unknow|     0.0|Cát Tường J-Home ...|\n",
      "|Nhà Phố - Biệt Thự|Noble Palace Long...|    phường Việt Hưng|      quận Long Biên|   Tập đoàn Sunshine|Đang mở bán|   27000.0| .24/09/2024 3:39 PM|         3000.0|     0.0|Noble Palace Long...|\n",
      "|   Căn hộ chung cư|Dự án Noble Cryst...|đường Vũ Đức T...|           Long Biên|   Tập đoàn Sunshine|Đang mở bán|   17000.0| .27/09/2024 3:17 PM|         8800.0|     0.0|Noble Crystal Lon...|\n",
      "|   Căn hộ chung cư|HQC Tân Hương: Dự...|         đường số 14|          Châu Thành|Công ty Cổ phần T...|Đang mở bán| 1.41878E8|.11/09/2024 12:00 PM|       530000.0|     0.0|Dự án HQC Tân Hươ...|\n",
      "|        Khu Đô Thị|Khu phố thương mạ...|góc đường An Dươn...|     TP. Thủ Dầu Một|Công ty Cổ phần K...|Đang mở bán|    8660.0| .24/08/2024 6:32 PM|       631000.0|     0.0|Uni Complex là dự...|\n",
      "|        Khu Đô Thị|The Centric: Tổ h...|       đường Đỗ Mười|         Thủy Nguyên|Công ty Cổ phần D...|Đang mở bán|   72600.0|.12/09/2024 10:02 AM|         unknow|     0.0|The Centric là tổ...|\n",
      "|   Căn hộ chung cư|The Orchard Hill:...|mặt tiền đường Hù...|       phường Phú Mỹ|Công ty TNHH Syca...|Đang mở bán|   11000.0| .05/09/2024 5:28 PM|         unknow|     5.0|The Orchard Hill ...|\n",
      "|Nhà Phố - Biệt Thự|Phân khu Golf Lan...|          đảo Vũ Yên|         Thủy Nguyên|Tập đoàn Vingroup...|Đang mở bán|      NULL| .05/09/2024 4:00 PM|         unknow|     0.0|Phân khu Golf Lan...|\n",
      "+------------------+--------------------+--------------------+--------------------+--------------------+-----------+----------+--------------------+---------------+--------+--------------------+\n",
      "only showing top 20 rows\n",
      "\n"
     ]
    }
   ],
   "source": [
    "# 3. Làm sạch cột 'Ngày đăng'\n",
    "# Loại bỏ \"Cập nhật: \" \n",
    "df = df.withColumn(\"Ngày đăng\", \n",
    "                   regexp_replace(col(\"Ngày đăng\"), \"Cập nhật: \", \"\\\\.\"))\n",
    "\n",
    "df.show()"
   ]
  },
  {
   "cell_type": "code",
   "execution_count": 216,
   "metadata": {},
   "outputs": [
    {
     "name": "stdout",
     "output_type": "stream",
     "text": [
      "+------------------+--------------------+--------------------+--------------------+--------------------+-----------+----------+--------------------+---------------+--------+--------------------+\n",
      "|        Loại dự án|           Tên dự án|               Đường|           Thành phố|          Chủ đầu tư| Trạng thái|Diện tích:|           Ngày đăng|Tổng vốn đầu tư|Xếp hạng|               Mô tả|\n",
      "+------------------+--------------------+--------------------+--------------------+--------------------+-----------+----------+--------------------+---------------+--------+--------------------+\n",
      "|     Đất Nền Dự Án|The Long Eyes: Dự...|   đường Sông Thao 5|           Trảng Bom|Công Ty Cổ Phần B...|Đang mở bán|    8200.0| .12/09/2024 8:49 AM|         unknow|     5.0|The Long Eyes là ...|\n",
      "|Nhà Phố - Biệt Thự|Tổ hợp biệt thự, ...|khu đô thị Ciputr...|              Tây Hồ|   Tập đoàn Sunshine|Đang mở bán|  101000.0| .27/09/2024 6:13 PM|         unknow|     0.0|Noble Palace Tây ...|\n",
      "|    Loại Hình Khác|Noble Empire: Khu...|khu đô thị Ciputr...|              Tây Hồ|   Tập đoàn Sunshine|Đang mở bán|   52000.0| .30/09/2024 4:17 PM|         5000.0|     0.0|Noble Empire là d...|\n",
      "|   Căn hộ chung cư|Căn hộ Phú Đông S...|       đường An Bình|           TP. Dĩ An|Công ty Cổ phần Đ...|Đang mở bán|      NULL| .11/09/2024 1:22 PM|         unknow|     4.3|Phú Đông Sky Gard...|\n",
      "|   Căn hộ chung cư|Phú Đông Sky One:...|       đường DT 743C|           TP. Dĩ An|Công ty Cổ phần Đ...|Đang mở bán|    5615.0| .11/09/2024 1:19 PM|         unknow|     0.0|Phú Đông Sky One ...|\n",
      "|   Căn hộ chung cư|Eaton Park: Dự án...|  Đại lộ Mai Chí Thọ|Quận 2 - TP. Thủ Đức|Gamuda Land Việt Nam|Đang mở bán|   36800.0| .11/09/2024 1:23 PM|        26000.0|     0.0|Dự án tổ hợp căn ...|\n",
      "|        Khu Đô Thị|LA Home: Dự án Kh...|             Bến Lức|             Long An|Công ty Cổ phần P...|Đang mở bán| 1014000.0| .11/09/2024 1:26 PM|         2936.0|     0.0|LA Home có vị trí...|\n",
      "|   Căn hộ chung cư|Golden City: Dự á...|số 6 đường Hồ Văn...|        TP. Tây Ninh|Công ty Cổ phần Đ...|Đang mở bán| 3.35407E8| .25/09/2024 9:05 AM|           NULL|     0.0|Golden City là că...|\n",
      "|   Căn hộ chung cư|Setia Gardens Res...| Khu đô thị Eco Xuân| mặt tiền Quốc lộ 13|Công ty TNHH MTV ...|Đang mở bán|   12389.0| .13/09/2024 1:37 PM|         unknow|     0.0|Setia Gardens Res...|\n",
      "|Nhà Phố - Biệt Thự|Dự án Sun Festiva...|        đảo Hòn Thơm|        TP. Phú Quốc|Công ty Cổ phần T...|Đang mở bán|  305000.0| .16/09/2024 8:47 PM|         unknow|     0.0|Sun Festival Aven...|\n",
      "|Nhà Phố - Biệt Thự|Phân khu Miyabi –...|    thuộc Đảo Vũ Yên|         Thủy Nguyên|Tập đoàn Vingroup...|Đang mở bán|      NULL|.18/09/2024 12:48 PM|         unknow|     5.0|Phân khu Miyabi l...|\n",
      "|   Căn hộ chung cư|Dự án Noble Cryst...|         Lô đất CT01|Khu đô thị Quốc t...|Công ty cổ phần b...|Đang mở bán|   50850.0| .19/09/2024 2:15 PM|        12286.0|     0.0|Noble Crystal Tây...|\n",
      "|Nhà Phố - Biệt Thự|Cát Tường J-Home ...|               DT743|        TP. Thuận An|Công ty TNHH Bất ...|Đang mở bán|   23000.0| .23/09/2024 4:03 PM|         unknow|     0.0|Cát Tường J-Home ...|\n",
      "|Nhà Phố - Biệt Thự|Noble Palace Long...|    phường Việt Hưng|      quận Long Biên|   Tập đoàn Sunshine|Đang mở bán|   27000.0| .24/09/2024 3:39 PM|         3000.0|     0.0|Noble Palace Long...|\n",
      "|   Căn hộ chung cư|Dự án Noble Cryst...|đường Vũ Đức T...|           Long Biên|   Tập đoàn Sunshine|Đang mở bán|   17000.0| .27/09/2024 3:17 PM|         8800.0|     0.0|Noble Crystal Lon...|\n",
      "|   Căn hộ chung cư|HQC Tân Hương: Dự...|         đường số 14|          Châu Thành|Công ty Cổ phần T...|Đang mở bán| 1.41878E8|.11/09/2024 12:00 PM|       530000.0|     0.0|Dự án HQC Tân Hươ...|\n",
      "|        Khu Đô Thị|Khu phố thương mạ...|góc đường An Dươn...|     TP. Thủ Dầu Một|Công ty Cổ phần K...|Đang mở bán|    8660.0| .24/08/2024 6:32 PM|       631000.0|     0.0|Uni Complex là dự...|\n",
      "|        Khu Đô Thị|The Centric: Tổ h...|       đường Đỗ Mười|         Thủy Nguyên|Công ty Cổ phần D...|Đang mở bán|   72600.0|.12/09/2024 10:02 AM|         unknow|     0.0|The Centric là tổ...|\n",
      "|   Căn hộ chung cư|The Orchard Hill:...|mặt tiền đường Hù...|       phường Phú Mỹ|Công ty TNHH Syca...|Đang mở bán|   11000.0| .05/09/2024 5:28 PM|         unknow|     5.0|The Orchard Hill ...|\n",
      "|Nhà Phố - Biệt Thự|Phân khu Golf Lan...|          đảo Vũ Yên|         Thủy Nguyên|Tập đoàn Vingroup...|Đang mở bán|      NULL| .05/09/2024 4:00 PM|         unknow|     0.0|Phân khu Golf Lan...|\n",
      "+------------------+--------------------+--------------------+--------------------+--------------------+-----------+----------+--------------------+---------------+--------+--------------------+\n",
      "only showing top 20 rows\n",
      "\n"
     ]
    }
   ],
   "source": [
    "# 4. Xử lý cột 'Trạng thái'\n",
    "# Thay thế null bằng \"chưa cập nhật\"\n",
    "df = df.withColumn(\"Trạng thái\", \n",
    "                   when(col(\"Trạng thái\") == None, \"Chưa cập nhật\").otherwise(col(\"Trạng thái\")))\n",
    "df.show()"
   ]
  },
  {
   "cell_type": "markdown",
   "metadata": {},
   "source": []
  },
  {
   "cell_type": "code",
   "execution_count": 205,
   "metadata": {},
   "outputs": [],
   "source": [
    "# Chuyển đổi DataFrame thành Spark DataFrame\n",
    "spark_df = spark.createDataFrame(df)"
   ]
  },
  {
   "cell_type": "code",
   "execution_count": null,
   "metadata": {},
   "outputs": [],
   "source": [
    "# Ghi dữ liệu vào collection mới hoặc collection hiện tại\n",
    "spark_df.write \\\n",
    "    .format(\"mongo\") \\\n",
    "    .mode(\"append\") \\\n",
    "    .option(\"uri\", \"mongodb://localhost:27017/ten_cua_database.ten_cua_collection\") \\\n",
    "    .save()"
   ]
  },
  {
   "cell_type": "code",
   "execution_count": null,
   "metadata": {},
   "outputs": [],
   "source": [
    "# Ghi dữ liệu đã xử lý thành file CSV\n",
    "output_path = \"/path/to/output/clean_cafeland.csv\"  # Thay đổi đường dẫn lưu file\n",
    "spark_df.coalesce(1).write.csv(output_path, header=True, mode=\"overwrite\")\n",
    "\n",
    "print(f\"Quá trình lưu dữ liệu thành file CSV tại: {output_path} đã hoàn tất.\")"
   ]
  },
  {
   "cell_type": "code",
   "execution_count": 24,
   "metadata": {},
   "outputs": [],
   "source": []
  },
  {
   "cell_type": "code",
   "execution_count": null,
   "metadata": {},
   "outputs": [],
   "source": []
  },
  {
   "cell_type": "code",
   "execution_count": null,
   "metadata": {},
   "outputs": [],
   "source": []
  },
  {
   "cell_type": "code",
   "execution_count": null,
   "metadata": {},
   "outputs": [],
   "source": []
  },
  {
   "cell_type": "code",
   "execution_count": null,
   "metadata": {},
   "outputs": [],
   "source": []
  },
  {
   "cell_type": "code",
   "execution_count": null,
   "metadata": {},
   "outputs": [],
   "source": []
  }
 ],
 "metadata": {
  "kernelspec": {
   "display_name": "Python 3",
   "language": "python",
   "name": "python3"
  },
  "language_info": {
   "codemirror_mode": {
    "name": "ipython",
    "version": 3
   },
   "file_extension": ".py",
   "mimetype": "text/x-python",
   "name": "python",
   "nbconvert_exporter": "python",
   "pygments_lexer": "ipython3",
   "version": "3.12.5"
  }
 },
 "nbformat": 4,
 "nbformat_minor": 2
}
